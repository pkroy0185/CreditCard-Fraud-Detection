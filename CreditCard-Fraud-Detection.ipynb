{
 "cells": [
  {
   "cell_type": "markdown",
   "id": "amino-plain",
   "metadata": {},
   "source": [
    "# Neural Network Architecture for predicting the Credit Card Fraud "
   ]
  },
  {
   "cell_type": "markdown",
   "id": "unavailable-australia",
   "metadata": {},
   "source": [
    "## Importing the libraries"
   ]
  },
  {
   "cell_type": "code",
   "execution_count": 22,
   "id": "romantic-determination",
   "metadata": {
    "scrolled": true
   },
   "outputs": [],
   "source": [
    "import numpy as np\n",
    "import pandas as pd\n",
    "import tensorflow as tf"
   ]
  },
  {
   "cell_type": "code",
   "execution_count": 23,
   "id": "postal-authentication",
   "metadata": {},
   "outputs": [],
   "source": [
    "dataset=pd.read_csv('creditcard.csv')\n",
    "x=dataset.iloc[:,:-1].values\n",
    "y=dataset.iloc[:,-1].values"
   ]
  },
  {
   "cell_type": "code",
   "execution_count": 24,
   "id": "nutritional-extraction",
   "metadata": {
    "scrolled": true
   },
   "outputs": [
    {
     "name": "stdout",
     "output_type": "stream",
     "text": [
      "   Time        V1        V2        V3        V4        V5        V6        V7  \\\n",
      "0   0.0 -1.359807 -0.072781  2.536347  1.378155 -0.338321  0.462388  0.239599   \n",
      "1   0.0  1.191857  0.266151  0.166480  0.448154  0.060018 -0.082361 -0.078803   \n",
      "2   1.0 -1.358354 -1.340163  1.773209  0.379780 -0.503198  1.800499  0.791461   \n",
      "3   1.0 -0.966272 -0.185226  1.792993 -0.863291 -0.010309  1.247203  0.237609   \n",
      "4   2.0 -1.158233  0.877737  1.548718  0.403034 -0.407193  0.095921  0.592941   \n",
      "5   2.0 -0.425966  0.960523  1.141109 -0.168252  0.420987 -0.029728  0.476201   \n",
      "6   4.0  1.229658  0.141004  0.045371  1.202613  0.191881  0.272708 -0.005159   \n",
      "7   7.0 -0.644269  1.417964  1.074380 -0.492199  0.948934  0.428118  1.120631   \n",
      "8   7.0 -0.894286  0.286157 -0.113192 -0.271526  2.669599  3.721818  0.370145   \n",
      "9   9.0 -0.338262  1.119593  1.044367 -0.222187  0.499361 -0.246761  0.651583   \n",
      "\n",
      "         V8        V9  ...       V21       V22       V23       V24       V25  \\\n",
      "0  0.098698  0.363787  ... -0.018307  0.277838 -0.110474  0.066928  0.128539   \n",
      "1  0.085102 -0.255425  ... -0.225775 -0.638672  0.101288 -0.339846  0.167170   \n",
      "2  0.247676 -1.514654  ...  0.247998  0.771679  0.909412 -0.689281 -0.327642   \n",
      "3  0.377436 -1.387024  ... -0.108300  0.005274 -0.190321 -1.175575  0.647376   \n",
      "4 -0.270533  0.817739  ... -0.009431  0.798278 -0.137458  0.141267 -0.206010   \n",
      "5  0.260314 -0.568671  ... -0.208254 -0.559825 -0.026398 -0.371427 -0.232794   \n",
      "6  0.081213  0.464960  ... -0.167716 -0.270710 -0.154104 -0.780055  0.750137   \n",
      "7 -3.807864  0.615375  ...  1.943465 -1.015455  0.057504 -0.649709 -0.415267   \n",
      "8  0.851084 -0.392048  ... -0.073425 -0.268092 -0.204233  1.011592  0.373205   \n",
      "9  0.069539 -0.736727  ... -0.246914 -0.633753 -0.120794 -0.385050 -0.069733   \n",
      "\n",
      "        V26       V27       V28  Amount  Class  \n",
      "0 -0.189115  0.133558 -0.021053  149.62      0  \n",
      "1  0.125895 -0.008983  0.014724    2.69      0  \n",
      "2 -0.139097 -0.055353 -0.059752  378.66      0  \n",
      "3 -0.221929  0.062723  0.061458  123.50      0  \n",
      "4  0.502292  0.219422  0.215153   69.99      0  \n",
      "5  0.105915  0.253844  0.081080    3.67      0  \n",
      "6 -0.257237  0.034507  0.005168    4.99      0  \n",
      "7 -0.051634 -1.206921 -1.085339   40.80      0  \n",
      "8 -0.384157  0.011747  0.142404   93.20      0  \n",
      "9  0.094199  0.246219  0.083076    3.68      0  \n",
      "\n",
      "[10 rows x 31 columns]\n"
     ]
    }
   ],
   "source": [
    "print(dataset.head(10))"
   ]
  },
  {
   "cell_type": "code",
   "execution_count": 25,
   "id": "naughty-virgin",
   "metadata": {
    "scrolled": true
   },
   "outputs": [
    {
     "name": "stdout",
     "output_type": "stream",
     "text": [
      "[[ 0.00000000e+00 -1.35980713e+00 -7.27811733e-02 ...  1.33558377e-01\n",
      "  -2.10530535e-02  1.49620000e+02]\n",
      " [ 0.00000000e+00  1.19185711e+00  2.66150712e-01 ... -8.98309914e-03\n",
      "   1.47241692e-02  2.69000000e+00]\n",
      " [ 1.00000000e+00 -1.35835406e+00 -1.34016307e+00 ... -5.53527940e-02\n",
      "  -5.97518406e-02  3.78660000e+02]\n",
      " ...\n",
      " [ 1.72788000e+05  1.91956501e+00 -3.01253846e-01 ...  4.45477214e-03\n",
      "  -2.65608286e-02  6.78800000e+01]\n",
      " [ 1.72788000e+05 -2.40440050e-01  5.30482513e-01 ...  1.08820735e-01\n",
      "   1.04532821e-01  1.00000000e+01]\n",
      " [ 1.72792000e+05 -5.33412522e-01 -1.89733337e-01 ... -2.41530880e-03\n",
      "   1.36489143e-02  2.17000000e+02]]\n"
     ]
    }
   ],
   "source": [
    "print(x)"
   ]
  },
  {
   "cell_type": "code",
   "execution_count": 26,
   "id": "rational-india",
   "metadata": {},
   "outputs": [
    {
     "name": "stdout",
     "output_type": "stream",
     "text": [
      "[0 0 0 ... 0 0 0]\n"
     ]
    }
   ],
   "source": [
    "print(y)"
   ]
  },
  {
   "cell_type": "markdown",
   "id": "binding-tobacco",
   "metadata": {},
   "source": [
    "## Splitting the dataset into the Training set and Test set "
   ]
  },
  {
   "cell_type": "code",
   "execution_count": 27,
   "id": "egyptian-language",
   "metadata": {},
   "outputs": [],
   "source": [
    "from sklearn.model_selection import train_test_split\n",
    "X_train, X_test, y_train, y_test = train_test_split(x, y, test_size = 0.2, random_state = 0)"
   ]
  },
  {
   "cell_type": "markdown",
   "id": "prostate-frederick",
   "metadata": {},
   "source": [
    "## Feature Scaling"
   ]
  },
  {
   "cell_type": "code",
   "execution_count": 28,
   "id": "assumed-operation",
   "metadata": {},
   "outputs": [],
   "source": [
    "from sklearn.preprocessing import StandardScaler\n",
    "sc = StandardScaler()\n",
    "X_train = sc.fit_transform(X_train)\n",
    "X_test = sc.transform(X_test)"
   ]
  },
  {
   "cell_type": "markdown",
   "id": "comfortable-container",
   "metadata": {},
   "source": [
    "# Building the ANN"
   ]
  },
  {
   "cell_type": "markdown",
   "id": "matched-workplace",
   "metadata": {},
   "source": [
    "## Initializing the ANN"
   ]
  },
  {
   "cell_type": "code",
   "execution_count": 29,
   "id": "brilliant-vatican",
   "metadata": {},
   "outputs": [],
   "source": [
    "ann = tf.keras.models.Sequential()"
   ]
  },
  {
   "cell_type": "markdown",
   "id": "excited-devil",
   "metadata": {},
   "source": [
    "## Adding the input layer and the first hidden layer"
   ]
  },
  {
   "cell_type": "code",
   "execution_count": 30,
   "id": "alien-compound",
   "metadata": {},
   "outputs": [],
   "source": [
    "ann.add(tf.keras.layers.Dense(units=6, activation='relu'))"
   ]
  },
  {
   "cell_type": "markdown",
   "id": "copyrighted-algeria",
   "metadata": {},
   "source": [
    "## Adding the second hidden layer "
   ]
  },
  {
   "cell_type": "code",
   "execution_count": 31,
   "id": "parliamentary-antenna",
   "metadata": {},
   "outputs": [],
   "source": [
    "ann.add(tf.keras.layers.Dense(units=6, activation='relu'))"
   ]
  },
  {
   "cell_type": "markdown",
   "id": "convenient-yellow",
   "metadata": {},
   "source": [
    "## Adding the output layer "
   ]
  },
  {
   "cell_type": "code",
   "execution_count": 32,
   "id": "smooth-founder",
   "metadata": {},
   "outputs": [],
   "source": [
    "ann.add(tf.keras.layers.Dense(units=1, activation='sigmoid'))"
   ]
  },
  {
   "cell_type": "markdown",
   "id": "loaded-workstation",
   "metadata": {},
   "source": [
    "# Training the ANN"
   ]
  },
  {
   "cell_type": "markdown",
   "id": "lesbian-party",
   "metadata": {},
   "source": [
    "## Compiling the ANN "
   ]
  },
  {
   "cell_type": "code",
   "execution_count": 33,
   "id": "meaningful-argument",
   "metadata": {},
   "outputs": [],
   "source": [
    "ann.compile(optimizer = 'adam', loss = 'binary_crossentropy', metrics = ['accuracy'])"
   ]
  },
  {
   "cell_type": "markdown",
   "id": "egyptian-armstrong",
   "metadata": {},
   "source": [
    "## Training the ANN on the Training set"
   ]
  },
  {
   "cell_type": "code",
   "execution_count": 34,
   "id": "streaming-effects",
   "metadata": {},
   "outputs": [
    {
     "name": "stdout",
     "output_type": "stream",
     "text": [
      "Epoch 1/100\n",
      "7121/7121 [==============================] - 10s 1ms/step - loss: 0.0712 - accuracy: 0.9799 3s - loss: 0.1031 - accuracy:  - ETA\n",
      "Epoch 2/100\n",
      "7121/7121 [==============================] - 8s 1ms/step - loss: 0.0033 - accuracy: 0.9994\n",
      "Epoch 3/100\n",
      "7121/7121 [==============================] - 8s 1ms/step - loss: 0.0029 - accuracy: 0.9995\n",
      "Epoch 4/100\n",
      "7121/7121 [==============================] - 8s 1ms/step - loss: 0.0039 - accuracy: 0.9993\n",
      "Epoch 5/100\n",
      "7121/7121 [==============================] - 8s 1ms/step - loss: 0.0032 - accuracy: 0.9995: 0s - los\n",
      "Epoch 6/100\n",
      "7121/7121 [==============================] - 8s 1ms/step - loss: 0.0026 - accuracy: 0.9995: 1s - loss: 0.0026 - \n",
      "Epoch 7/100\n",
      "7121/7121 [==============================] - 8s 1ms/step - loss: 0.0031 - accuracy: 0.9993\n",
      "Epoch 8/100\n",
      "7121/7121 [==============================] - 8s 1ms/step - loss: 0.0031 - accuracy: 0.9994\n",
      "Epoch 9/100\n",
      "7121/7121 [==============================] - 8s 1ms/step - loss: 0.0029 - accuracy: 0.9994\n",
      "Epoch 10/100\n",
      "7121/7121 [==============================] - 8s 1ms/step - loss: 0.0030 - accuracy: 0.9994\n",
      "Epoch 11/100\n",
      "7121/7121 [==============================] - 8s 1ms/step - loss: 0.0026 - accuracy: 0.9995: 0s - loss:\n",
      "Epoch 12/100\n",
      "7121/7121 [==============================] - 8s 1ms/step - loss: 0.0029 - accuracy: 0.9994: 0s - loss: 0.0029 - accu\n",
      "Epoch 13/100\n",
      "7121/7121 [==============================] - 8s 1ms/step - loss: 0.0028 - accuracy: 0.9995\n",
      "Epoch 14/100\n",
      "7121/7121 [==============================] - 8s 1ms/step - loss: 0.0032 - accuracy: 0.9993\n",
      "Epoch 15/100\n",
      "7121/7121 [==============================] - 8s 1ms/step - loss: 0.0027 - accuracy: 0.9995: 0s - los - ETA: 0s - loss: 0.0027 - accuracy\n",
      "Epoch 16/100\n",
      "7121/7121 [==============================] - 8s 1ms/step - loss: 0.0025 - accuracy: 0.9995TA: 0s\n",
      "Epoch 17/100\n",
      "7121/7121 [==============================] - 8s 1ms/step - loss: 0.0023 - accuracy: 0.9995: 0s - loss: 0.002 - ETA: 0s - loss: 0.0023 - accuracy: 0.\n",
      "Epoch 18/100\n",
      "7121/7121 [==============================] - 8s 1ms/step - loss: 0.0025 - accuracy: 0.9994: 1s - ETA: 0s - loss: 0.0025 - accura\n",
      "Epoch 19/100\n",
      "7121/7121 [==============================] - 8s 1ms/step - loss: 0.0024 - accuracy: 0.9994: 0s - loss: 0.0024 - accuracy\n",
      "Epoch 20/100\n",
      "7121/7121 [==============================] - 8s 1ms/step - loss: 0.0028 - accuracy: 0.9994\n",
      "Epoch 21/100\n",
      "7121/7121 [==============================] - 8s 1ms/step - loss: 0.0023 - accuracy: 0.9994: 0s - loss: 0.0\n",
      "Epoch 22/100\n",
      "7121/7121 [==============================] - 8s 1ms/step - loss: 0.0026 - accuracy: 0.9994\n",
      "Epoch 23/100\n",
      "7121/7121 [==============================] - 8s 1ms/step - loss: 0.0025 - accuracy: 0.9993\n",
      "Epoch 24/100\n",
      "7121/7121 [==============================] - 8s 1ms/step - loss: 0.0022 - accuracy: 0.9995\n",
      "Epoch 25/100\n",
      "7121/7121 [==============================] - 8s 1ms/step - loss: 0.0022 - accuracy: 0.9994: 0s - loss: 0.0\n",
      "Epoch 26/100\n",
      "7121/7121 [==============================] - 8s 1ms/step - loss: 0.0025 - accuracy: 0.9993\n",
      "Epoch 27/100\n",
      "7121/7121 [==============================] - 8s 1ms/step - loss: 0.0020 - accuracy: 0.9995\n",
      "Epoch 28/100\n",
      "7121/7121 [==============================] - 8s 1ms/step - loss: 0.0021 - accuracy: 0.9995: 0s - loss: 0.0021 - ac\n",
      "Epoch 29/100\n",
      "7121/7121 [==============================] - 11s 2ms/step - loss: 0.0022 - accuracy: 0.9995\n",
      "Epoch 30/100\n",
      "7121/7121 [==============================] - 13s 2ms/step - loss: 0.0021 - accuracy: 0.9995\n",
      "Epoch 31/100\n",
      "7121/7121 [==============================] - 13s 2ms/step - loss: 0.0021 - accuracy: 0.9996\n",
      "Epoch 32/100\n",
      "7121/7121 [==============================] - 13s 2ms/step - loss: 0.0022 - accuracy: 0.9995\n",
      "Epoch 33/100\n",
      "7121/7121 [==============================] - 13s 2ms/step - loss: 0.0021 - accuracy: 0.9995 0s - loss: 0.0021 - accuracy\n",
      "Epoch 34/100\n",
      "7121/7121 [==============================] - 13s 2ms/step - loss: 0.0023 - accuracy: 0.9994\n",
      "Epoch 35/100\n",
      "7121/7121 [==============================] - 13s 2ms/step - loss: 0.0022 - accuracy: 0.9995\n",
      "Epoch 36/100\n",
      "7121/7121 [==============================] - 13s 2ms/step - loss: 0.0023 - accuracy: 0.9995\n",
      "Epoch 37/100\n",
      "7121/7121 [==============================] - 13s 2ms/step - loss: 0.0022 - accuracy: 0.9995\n",
      "Epoch 38/100\n",
      "7121/7121 [==============================] - 13s 2ms/step - loss: 0.0022 - accuracy: 0.9994\n",
      "Epoch 39/100\n",
      "7121/7121 [==============================] - 13s 2ms/step - loss: 0.0023 - accuracy: 0.9994\n",
      "Epoch 40/100\n",
      "7121/7121 [==============================] - 13s 2ms/step - loss: 0.0019 - accuracy: 0.9996\n",
      "Epoch 41/100\n",
      "7121/7121 [==============================] - 13s 2ms/step - loss: 0.0022 - accuracy: 0.9995\n",
      "Epoch 42/100\n",
      "7121/7121 [==============================] - 13s 2ms/step - loss: 0.0022 - accuracy: 0.9994\n",
      "Epoch 43/100\n",
      "7121/7121 [==============================] - 13s 2ms/step - loss: 0.0021 - accuracy: 0.9995\n",
      "Epoch 44/100\n",
      "7121/7121 [==============================] - 13s 2ms/step - loss: 0.0023 - accuracy: 0.9994\n",
      "Epoch 45/100\n",
      "7121/7121 [==============================] - 13s 2ms/step - loss: 0.0022 - accuracy: 0.9995\n",
      "Epoch 46/100\n",
      "7121/7121 [==============================] - 13s 2ms/step - loss: 0.0020 - accuracy: 0.9995\n",
      "Epoch 47/100\n",
      "7121/7121 [==============================] - 13s 2ms/step - loss: 0.0021 - accuracy: 0.9995\n",
      "Epoch 48/100\n",
      "7121/7121 [==============================] - 13s 2ms/step - loss: 0.0020 - accuracy: 0.9995\n",
      "Epoch 49/100\n",
      "7121/7121 [==============================] - 13s 2ms/step - loss: 0.0016 - accuracy: 0.9996\n",
      "Epoch 50/100\n",
      "7121/7121 [==============================] - 13s 2ms/step - loss: 0.0019 - accuracy: 0.9995\n",
      "Epoch 51/100\n",
      "7121/7121 [==============================] - 13s 2ms/step - loss: 0.0022 - accuracy: 0.9995 0s - loss: 0.0022 \n",
      "Epoch 52/100\n",
      "7121/7121 [==============================] - 12s 2ms/step - loss: 0.0022 - accuracy: 0.9994\n",
      "Epoch 53/100\n",
      "7121/7121 [==============================] - 12s 2ms/step - loss: 0.0022 - accuracy: 0.9994\n",
      "Epoch 54/100\n",
      "7121/7121 [==============================] - 12s 2ms/step - loss: 0.0022 - accuracy: 0.9994\n",
      "Epoch 55/100\n",
      "7121/7121 [==============================] - 12s 2ms/step - loss: 0.0019 - accuracy: 0.9995\n",
      "Epoch 56/100\n",
      "7121/7121 [==============================] - 12s 2ms/step - loss: 0.0020 - accuracy: 0.9995\n",
      "Epoch 57/100\n",
      "7121/7121 [==============================] - 12s 2ms/step - loss: 0.0022 - accuracy: 0.9995\n",
      "Epoch 58/100\n",
      "7121/7121 [==============================] - 12s 2ms/step - loss: 0.0018 - accuracy: 0.9995\n",
      "Epoch 59/100\n",
      "7121/7121 [==============================] - 12s 2ms/step - loss: 0.0017 - accuracy: 0.9996\n",
      "Epoch 60/100\n",
      "7121/7121 [==============================] - 12s 2ms/step - loss: 0.0019 - accuracy: 0.9995\n",
      "Epoch 61/100\n",
      "7121/7121 [==============================] - 12s 2ms/step - loss: 0.0021 - accuracy: 0.9995\n",
      "Epoch 62/100\n",
      "7121/7121 [==============================] - 12s 2ms/step - loss: 0.0017 - accuracy: 0.9995\n",
      "Epoch 63/100\n",
      "7121/7121 [==============================] - 12s 2ms/step - loss: 0.0018 - accuracy: 0.9995\n",
      "Epoch 64/100\n",
      "7121/7121 [==============================] - 12s 2ms/step - loss: 0.0021 - accuracy: 0.9995\n",
      "Epoch 65/100\n",
      "7121/7121 [==============================] - 13s 2ms/step - loss: 0.0018 - accuracy: 0.9995\n",
      "Epoch 66/100\n",
      "7121/7121 [==============================] - 13s 2ms/step - loss: 0.0020 - accuracy: 0.9995\n",
      "Epoch 67/100\n",
      "7121/7121 [==============================] - 13s 2ms/step - loss: 0.0019 - accuracy: 0.9994\n",
      "Epoch 68/100\n",
      "7121/7121 [==============================] - 13s 2ms/step - loss: 0.0022 - accuracy: 0.9994\n",
      "Epoch 69/100\n",
      "7121/7121 [==============================] - 13s 2ms/step - loss: 0.0020 - accuracy: 0.9995\n",
      "Epoch 70/100\n",
      "7121/7121 [==============================] - 13s 2ms/step - loss: 0.0022 - accuracy: 0.9995\n",
      "Epoch 71/100\n",
      "7121/7121 [==============================] - 13s 2ms/step - loss: 0.0020 - accuracy: 0.9995\n",
      "Epoch 72/100\n",
      "7121/7121 [==============================] - 13s 2ms/step - loss: 0.0018 - accuracy: 0.9995\n",
      "Epoch 73/100\n",
      "7121/7121 [==============================] - 13s 2ms/step - loss: 0.0021 - accuracy: 0.9995\n",
      "Epoch 74/100\n",
      "7121/7121 [==============================] - 13s 2ms/step - loss: 0.0023 - accuracy: 0.9994\n",
      "Epoch 75/100\n"
     ]
    },
    {
     "name": "stdout",
     "output_type": "stream",
     "text": [
      "7121/7121 [==============================] - 12s 2ms/step - loss: 0.0021 - accuracy: 0.9995\n",
      "Epoch 76/100\n",
      "7121/7121 [==============================] - 13s 2ms/step - loss: 0.0020 - accuracy: 0.9995\n",
      "Epoch 77/100\n",
      "7121/7121 [==============================] - 13s 2ms/step - loss: 0.0019 - accuracy: 0.9996\n",
      "Epoch 78/100\n",
      "7121/7121 [==============================] - 13s 2ms/step - loss: 0.0022 - accuracy: 0.9995\n",
      "Epoch 79/100\n",
      "7121/7121 [==============================] - 13s 2ms/step - loss: 0.0021 - accuracy: 0.9995\n",
      "Epoch 80/100\n",
      "7121/7121 [==============================] - 13s 2ms/step - loss: 0.0020 - accuracy: 0.9994 0s - loss: 0.0020 - accuracy\n",
      "Epoch 81/100\n",
      "7121/7121 [==============================] - 13s 2ms/step - loss: 0.0021 - accuracy: 0.9995\n",
      "Epoch 82/100\n",
      "7121/7121 [==============================] - 13s 2ms/step - loss: 0.0020 - accuracy: 0.9995\n",
      "Epoch 83/100\n",
      "7121/7121 [==============================] - 13s 2ms/step - loss: 0.0019 - accuracy: 0.9995\n",
      "Epoch 84/100\n",
      "7121/7121 [==============================] - 13s 2ms/step - loss: 0.0021 - accuracy: 0.9994\n",
      "Epoch 85/100\n",
      "7121/7121 [==============================] - 13s 2ms/step - loss: 0.0020 - accuracy: 0.9995\n",
      "Epoch 86/100\n",
      "7121/7121 [==============================] - 13s 2ms/step - loss: 0.0018 - accuracy: 0.9995\n",
      "Epoch 87/100\n",
      "7121/7121 [==============================] - 13s 2ms/step - loss: 0.0020 - accuracy: 0.9995\n",
      "Epoch 88/100\n",
      "7121/7121 [==============================] - 13s 2ms/step - loss: 0.0018 - accuracy: 0.9995\n",
      "Epoch 89/100\n",
      "7121/7121 [==============================] - 13s 2ms/step - loss: 0.0021 - accuracy: 0.9994\n",
      "Epoch 90/100\n",
      "7121/7121 [==============================] - 13s 2ms/step - loss: 0.0023 - accuracy: 0.9994\n",
      "Epoch 91/100\n",
      "7121/7121 [==============================] - 13s 2ms/step - loss: 0.0022 - accuracy: 0.9994\n",
      "Epoch 92/100\n",
      "7121/7121 [==============================] - 13s 2ms/step - loss: 0.0018 - accuracy: 0.9995\n",
      "Epoch 93/100\n",
      "7121/7121 [==============================] - 13s 2ms/step - loss: 0.0020 - accuracy: 0.9994\n",
      "Epoch 94/100\n",
      "7121/7121 [==============================] - 5s 724us/step - loss: 0.0017 - accuracy: 0.9996\n",
      "Epoch 95/100\n",
      "7121/7121 [==============================] - 5s 638us/step - loss: 0.0020 - accuracy: 0.9995\n",
      "Epoch 96/100\n",
      "7121/7121 [==============================] - 4s 627us/step - loss: 0.0022 - accuracy: 0.9995\n",
      "Epoch 97/100\n",
      "7121/7121 [==============================] - 5s 653us/step - loss: 0.0023 - accuracy: 0.9993\n",
      "Epoch 98/100\n",
      "7121/7121 [==============================] - 4s 625us/step - loss: 0.0017 - accuracy: 0.9996\n",
      "Epoch 99/100\n",
      "7121/7121 [==============================] - 4s 628us/step - loss: 0.0022 - accuracy: 0.9995\n",
      "Epoch 100/100\n",
      "7121/7121 [==============================] - 4s 629us/step - loss: 0.0019 - accuracy: 0.9995\n"
     ]
    },
    {
     "data": {
      "text/plain": [
       "<tensorflow.python.keras.callbacks.History at 0x1979ead2ac0>"
      ]
     },
     "execution_count": 34,
     "metadata": {},
     "output_type": "execute_result"
    }
   ],
   "source": [
    "ann.fit(X_train, y_train, batch_size = 32, epochs = 100)"
   ]
  },
  {
   "cell_type": "markdown",
   "id": "united-evanescence",
   "metadata": {},
   "source": [
    "# Making the predictions and evaluating the model"
   ]
  },
  {
   "cell_type": "markdown",
   "id": "honey-wealth",
   "metadata": {},
   "source": [
    "## Predicting the Test set results"
   ]
  },
  {
   "cell_type": "code",
   "execution_count": 35,
   "id": "eligible-wallace",
   "metadata": {},
   "outputs": [
    {
     "name": "stdout",
     "output_type": "stream",
     "text": [
      "[[0 0]\n",
      " [0 0]\n",
      " [0 0]\n",
      " ...\n",
      " [0 0]\n",
      " [0 0]\n",
      " [0 0]]\n"
     ]
    }
   ],
   "source": [
    "y_pred = ann.predict(X_test)\n",
    "y_pred = (y_pred > 0.5)\n",
    "print(np.concatenate((y_pred.reshape(len(y_pred),1), y_test.reshape(len(y_test),1)),1))"
   ]
  },
  {
   "cell_type": "markdown",
   "id": "wicked-article",
   "metadata": {},
   "source": [
    "## Making the Confusion Matrix"
   ]
  },
  {
   "cell_type": "code",
   "execution_count": 36,
   "id": "female-indonesian",
   "metadata": {},
   "outputs": [
    {
     "name": "stdout",
     "output_type": "stream",
     "text": [
      "[[56854     7]\n",
      " [   26    75]]\n"
     ]
    },
    {
     "data": {
      "text/plain": [
       "0.999420666409185"
      ]
     },
     "execution_count": 36,
     "metadata": {},
     "output_type": "execute_result"
    }
   ],
   "source": [
    "from sklearn.metrics import confusion_matrix, accuracy_score\n",
    "cm = confusion_matrix(y_test, y_pred)\n",
    "print(cm)\n",
    "accuracy_score(y_test, y_pred)"
   ]
  }
 ],
 "metadata": {
  "kernelspec": {
   "display_name": "Python 3",
   "language": "python",
   "name": "python3"
  },
  "language_info": {
   "codemirror_mode": {
    "name": "ipython",
    "version": 3
   },
   "file_extension": ".py",
   "mimetype": "text/x-python",
   "name": "python",
   "nbconvert_exporter": "python",
   "pygments_lexer": "ipython3",
   "version": "3.9.1"
  }
 },
 "nbformat": 4,
 "nbformat_minor": 5
}
